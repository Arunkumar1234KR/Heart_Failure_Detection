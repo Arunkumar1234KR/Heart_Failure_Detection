{
 "cells": [
  {
   "cell_type": "code",
   "execution_count": 6,
   "metadata": {},
   "outputs": [
    {
     "name": "stdout",
     "output_type": "stream",
     "text": [
      "Random Forest Accuracy Score: 75.00%\n"
     ]
    },
    {
     "data": {
      "image/png": "[encoded data removed]",
      "text/plain": [
       "<Figure size 640x480 with 2 Axes>"
      ]
     },
     "metadata": {},
     "output_type": "display_data"
    },
    {
     "name": "stdout",
     "output_type": "stream",
     "text": [
      "Please enter the following values:\n"
     ]
    },
    {
     "name": "stdin",
     "output_type": "stream",
     "text": [
      "Enter age (in years):  34\n",
      "Do you have anaemia? (1 for Yes, 0 for No):  0\n",
      "Enter creatinine phosphokinase level (mcg/L):  300\n",
      "Do you have diabetes? (1 for Yes, 0 for No):  0\n",
      "Enter ejection fraction (percentage):  23\n",
      "Do you have high blood pressure? (1 for Yes, 0 for No):  0\n",
      "Enter platelet count (kiloplatelets/mL):  200000\n",
      "Enter serum creatinine level (mg/dL):  03\n",
      "Enter serum sodium level (mEq/L):  130\n",
      "Enter your sex (1 for Male, 0 for Female):  1\n",
      "Do you smoke? (1 for Yes, 0 for No):  1\n",
      "Enter the follow-up period (in days):  20\n"
     ]
    },
    {
     "name": "stdout",
     "output_type": "stream",
     "text": [
      "\n",
      "Prediction: Heart Fail\n",
      "Prediction Probabilities: [0.21 0.79]\n"
     ]
    }
   ],
   "source": [
    "import warnings\n",
    "warnings.filterwarnings(\"ignore\")\n",
    "\n",
    "# Importing necessary libraries\n",
    "import pandas as pd\n",
    "import numpy as np\n",
    "from sklearn.model_selection import train_test_split\n",
    "from sklearn.ensemble import RandomForestClassifier\n",
    "from sklearn.metrics import confusion_matrix, accuracy_score, ConfusionMatrixDisplay\n",
    "import matplotlib.pyplot as plt\n",
    "\n",
    "# Load the dataset\n",
    "file_path = 'heart_failure_clinical_records_dataset.csv'\n",
    "heart_data = pd.read_csv(file_path)\n",
    "\n",
    "# Selecting important attributes for better prediction\n",
    "features = [\n",
    "    'age', 'anaemia', 'creatinine_phosphokinase', 'diabetes',\n",
    "    'ejection_fraction', 'high_blood_pressure', 'platelets',\n",
    "    'serum_creatinine', 'serum_sodium', 'sex', 'smoking', 'time'\n",
    "]\n",
    "X = heart_data[features]\n",
    "y = heart_data['DEATH_EVENT']\n",
    "\n",
    "# Splitting the data into training and testing sets\n",
    "X_train, X_test, y_train, y_test = train_test_split(X, y, test_size=0.2, random_state=42)\n",
    "\n",
    "# Model training - Random Forest\n",
    "model = RandomForestClassifier(random_state=42)\n",
    "model.fit(X_train, y_train)\n",
    "\n",
    "# Model prediction\n",
    "y_pred = model.predict(X_test)\n",
    "\n",
    "# Evaluate accuracy\n",
    "accuracy = accuracy_score(y_test, y_pred)\n",
    "print(f\"Random Forest Accuracy Score: {accuracy * 100:.2f}%\")\n",
    "\n",
    "# Confusion Matrix\n",
    "cm = confusion_matrix(y_test, y_pred)\n",
    "disp = ConfusionMatrixDisplay(confusion_matrix=cm, display_labels=[\"Heart Not Failed\", \"Heart Fail\"])\n",
    "disp.plot(cmap='Blues')\n",
    "plt.title(\"Random Forest - Confusion Matrix\")\n",
    "plt.show()\n",
    "\n",
    "# Function for predicting based on new input\n",
    "def predict_outcome(new_data):\n",
    "    new_data_df = pd.DataFrame([new_data], columns=features)\n",
    "    prediction = model.predict(new_data_df)\n",
    "    prediction_prob = model.predict_proba(new_data_df)\n",
    "    return prediction[0], prediction_prob[0]\n",
    "\n",
    "# Simplified function for novice users\n",
    "def user_friendly_prediction():\n",
    "    print(\"Please enter the following values:\")\n",
    "    age = int(input(\"Enter age (in years): \"))\n",
    "    anaemia = int(input(\"Do you have anaemia? (1 for Yes, 0 for No): \"))\n",
    "    creatinine_phosphokinase = float(input(\"Enter creatinine phosphokinase level (mcg/L): \"))\n",
    "    diabetes = int(input(\"Do you have diabetes? (1 for Yes, 0 for No): \"))\n",
    "    ejection_fraction = float(input(\"Enter ejection fraction (percentage): \"))\n",
    "    high_blood_pressure = int(input(\"Do you have high blood pressure? (1 for Yes, 0 for No): \"))\n",
    "    platelets = float(input(\"Enter platelet count (kiloplatelets/mL): \"))\n",
    "    serum_creatinine = float(input(\"Enter serum creatinine level (mg/dL): \"))\n",
    "    serum_sodium = float(input(\"Enter serum sodium level (mEq/L): \"))\n",
    "    sex = int(input(\"Enter your sex (1 for Male, 0 for Female): \"))\n",
    "    smoking = int(input(\"Do you smoke? (1 for Yes, 0 for No): \"))\n",
    "    time = int(input(\"Enter the follow-up period (in days): \"))\n",
    "\n",
    "    # Prepare input\n",
    "    user_input = {\n",
    "        'age': age,\n",
    "        'anaemia': anaemia,\n",
    "        'creatinine_phosphokinase': creatinine_phosphokinase,\n",
    "        'diabetes': diabetes,\n",
    "        'ejection_fraction': ejection_fraction,\n",
    "        'high_blood_pressure': high_blood_pressure,\n",
    "        'platelets': platelets,\n",
    "        'serum_creatinine': serum_creatinine,\n",
    "        'serum_sodium': serum_sodium,\n",
    "        'sex': sex,\n",
    "        'smoking': smoking,\n",
    "        'time': time\n",
    "    }\n",
    "\n",
    "    # Predict outcome\n",
    "    result, probability = predict_outcome(user_input)\n",
    "    print(f\"\\nPrediction: {'Heart Fail' if result == 1 else 'Heart Not Failed'}\")\n",
    "    print(f\"Prediction Probabilities: {probability}\")\n",
    "\n",
    "# Uncomment below to enable user interaction\n",
    "user_friendly_prediction()\n"
   ]
  },
  {
   "cell_type": "code",
   "execution_count": null,
   "metadata": {},
   "outputs": [],
   "source": []
  }
 ],
 "metadata": {
  "kernelspec": {
   "display_name": "Python 3 (ipykernel)",
   "language": "python",
   "name": "python3"
  },
  "language_info": {
   "codemirror_mode": {
    "name": "ipython",
    "version": 3
   },
   "file_extension": ".py",
   "mimetype": "text/x-python",
   "name": "python",
   "nbconvert_exporter": "python",
   "pygments_lexer": "ipython3",
   "version": "3.12.4"
  },
  "papermill": {
   "duration": 97.457167,
   "end_time": "2020-10-16T09:16:28.520599",
   "environment_variables": {},
   "exception": null,
   "input_path": "__notebook__.ipynb",
   "output_path": "__notebook__.ipynb",
   "parameters": {},
   "start_time": "2020-10-16T09:14:51.063432",
   "version": "2.1.0"
  }
 },
 "nbformat": 4,
 "nbformat_minor": 4
}
